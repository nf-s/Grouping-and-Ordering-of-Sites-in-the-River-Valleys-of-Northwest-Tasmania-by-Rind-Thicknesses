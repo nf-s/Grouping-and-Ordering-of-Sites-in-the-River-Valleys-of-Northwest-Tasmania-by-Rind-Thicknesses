{
 "cells": [
  {
   "cell_type": "markdown",
   "metadata": {},
   "source": [
    "# Import data"
   ]
  },
  {
   "cell_type": "code",
   "execution_count": 1,
   "metadata": {},
   "outputs": [
    {
     "data": {
      "text/html": [
       "<table>\n",
       "<thead><tr><th scope=col>Thickness</th><th scope=col>SiteNum</th><th scope=col>Episode</th></tr></thead>\n",
       "<tbody>\n",
       "\t<tr><td>1.9</td><td>1  </td><td>Arm</td></tr>\n",
       "\t<tr><td>2.0</td><td>1  </td><td>Arm</td></tr>\n",
       "\t<tr><td>3.1</td><td>1  </td><td>Arm</td></tr>\n",
       "\t<tr><td>2.9</td><td>1  </td><td>Arm</td></tr>\n",
       "\t<tr><td>2.8</td><td>1  </td><td>Arm</td></tr>\n",
       "\t<tr><td>3.0</td><td>1  </td><td>Arm</td></tr>\n",
       "</tbody>\n",
       "</table>\n"
      ],
      "text/latex": [
       "\\begin{tabular}{r|lll}\n",
       " Thickness & SiteNum & Episode\\\\\n",
       "\\hline\n",
       "\t 1.9 & 1   & Arm\\\\\n",
       "\t 2.0 & 1   & Arm\\\\\n",
       "\t 3.1 & 1   & Arm\\\\\n",
       "\t 2.9 & 1   & Arm\\\\\n",
       "\t 2.8 & 1   & Arm\\\\\n",
       "\t 3.0 & 1   & Arm\\\\\n",
       "\\end{tabular}\n"
      ],
      "text/markdown": [
       "\n",
       "Thickness | SiteNum | Episode | \n",
       "|---|---|---|---|---|---|\n",
       "| 1.9 | 1   | Arm | \n",
       "| 2.0 | 1   | Arm | \n",
       "| 3.1 | 1   | Arm | \n",
       "| 2.9 | 1   | Arm | \n",
       "| 2.8 | 1   | Arm | \n",
       "| 3.0 | 1   | Arm | \n",
       "\n",
       "\n"
      ],
      "text/plain": [
       "  Thickness SiteNum Episode\n",
       "1 1.9       1       Arm    \n",
       "2 2.0       1       Arm    \n",
       "3 3.1       1       Arm    \n",
       "4 2.9       1       Arm    \n",
       "5 2.8       1       Arm    \n",
       "6 3.0       1       Arm    "
      ]
     },
     "metadata": {},
     "output_type": "display_data"
    }
   ],
   "source": [
    "setwd(\"G:\\\\My Drive\\\\2. UTAS\\\\2017 Sem 2\\\\KMA253 - Data Handling & Statistics 2\\\\Assessments\\\\Project 2\")\n",
    "\n",
    "d <- read.csv(\"rind_15sites.csv\",header=T)\n",
    "d$SiteNum<-as.factor(d$SiteNum)\n",
    "d<-data.frame(d)\n",
    "head(d)"
   ]
  },
  {
   "cell_type": "markdown",
   "metadata": {},
   "source": [
    "# Ordering of groups"
   ]
  },
  {
   "cell_type": "code",
   "execution_count": 51,
   "metadata": {},
   "outputs": [
    {
     "data": {
      "text/html": [
       "<table>\n",
       "<thead><tr><th></th><th scope=col>Mean.Thickness</th></tr></thead>\n",
       "<tbody>\n",
       "\t<tr><th scope=row>6</th><td>10.482</td></tr>\n",
       "\t<tr><th scope=row>16</th><td> 6.332</td></tr>\n",
       "\t<tr><th scope=row>15</th><td> 3.156</td></tr>\n",
       "\t<tr><th scope=row>1</th><td> 2.386</td></tr>\n",
       "\t<tr><th scope=row>9</th><td> 1.494</td></tr>\n",
       "\t<tr><th scope=row>7</th><td> 1.112</td></tr>\n",
       "\t<tr><th scope=row>2</th><td> 0.882</td></tr>\n",
       "\t<tr><th scope=row>3</th><td> 0.748</td></tr>\n",
       "\t<tr><th scope=row>5</th><td> 0.726</td></tr>\n",
       "\t<tr><th scope=row>11</th><td> 0.570</td></tr>\n",
       "\t<tr><th scope=row>8</th><td> 0.402</td></tr>\n",
       "\t<tr><th scope=row>4</th><td> 0.336</td></tr>\n",
       "\t<tr><th scope=row>14</th><td> 0.248</td></tr>\n",
       "\t<tr><th scope=row>13</th><td> 0.222</td></tr>\n",
       "\t<tr><th scope=row>12</th><td> 0.202</td></tr>\n",
       "</tbody>\n",
       "</table>\n"
      ],
      "text/latex": [
       "\\begin{tabular}{r|l}\n",
       "  & Mean.Thickness\\\\\n",
       "\\hline\n",
       "\t6 & 10.482\\\\\n",
       "\t16 &  6.332\\\\\n",
       "\t15 &  3.156\\\\\n",
       "\t1 &  2.386\\\\\n",
       "\t9 &  1.494\\\\\n",
       "\t7 &  1.112\\\\\n",
       "\t2 &  0.882\\\\\n",
       "\t3 &  0.748\\\\\n",
       "\t5 &  0.726\\\\\n",
       "\t11 &  0.570\\\\\n",
       "\t8 &  0.402\\\\\n",
       "\t4 &  0.336\\\\\n",
       "\t14 &  0.248\\\\\n",
       "\t13 &  0.222\\\\\n",
       "\t12 &  0.202\\\\\n",
       "\\end{tabular}\n"
      ],
      "text/markdown": [
       "\n",
       "| <!--/--> | Mean.Thickness | \n",
       "|---|---|---|---|---|---|---|---|---|---|---|---|---|---|---|\n",
       "| 6 | 10.482 | \n",
       "| 16 |  6.332 | \n",
       "| 15 |  3.156 | \n",
       "| 1 |  2.386 | \n",
       "| 9 |  1.494 | \n",
       "| 7 |  1.112 | \n",
       "| 2 |  0.882 | \n",
       "| 3 |  0.748 | \n",
       "| 5 |  0.726 | \n",
       "| 11 |  0.570 | \n",
       "| 8 |  0.402 | \n",
       "| 4 |  0.336 | \n",
       "| 14 |  0.248 | \n",
       "| 13 |  0.222 | \n",
       "| 12 |  0.202 | \n",
       "\n",
       "\n"
      ],
      "text/plain": [
       "   Mean.Thickness\n",
       "6  10.482        \n",
       "16  6.332        \n",
       "15  3.156        \n",
       "1   2.386        \n",
       "9   1.494        \n",
       "7   1.112        \n",
       "2   0.882        \n",
       "3   0.748        \n",
       "5   0.726        \n",
       "11  0.570        \n",
       "8   0.402        \n",
       "4   0.336        \n",
       "14  0.248        \n",
       "13  0.222        \n",
       "12  0.202        "
      ]
     },
     "metadata": {},
     "output_type": "display_data"
    }
   ],
   "source": [
    "#write.table(data.frame(\"Mean Thickness\"=sort(tapply(d$Thickness, d$SiteNum, mean),decreasing=TRUE)),\"clipboard\",sep=\"\\t\")\n",
    "data.frame(\"Mean Thickness\"=sort(tapply(d$Thickness, d$SiteNum, mean),decreasing=TRUE))"
   ]
  },
  {
   "cell_type": "code",
   "execution_count": 52,
   "metadata": {},
   "outputs": [
    {
     "data": {
      "text/html": [
       "<table>\n",
       "<thead><tr><th></th><th scope=col>Median.Thickness</th></tr></thead>\n",
       "<tbody>\n",
       "\t<tr><th scope=row>6</th><td>10.5</td></tr>\n",
       "\t<tr><th scope=row>16</th><td> 5.8</td></tr>\n",
       "\t<tr><th scope=row>15</th><td> 2.8</td></tr>\n",
       "\t<tr><th scope=row>1</th><td> 2.4</td></tr>\n",
       "\t<tr><th scope=row>9</th><td> 1.5</td></tr>\n",
       "\t<tr><th scope=row>7</th><td> 1.0</td></tr>\n",
       "\t<tr><th scope=row>2</th><td> 0.8</td></tr>\n",
       "\t<tr><th scope=row>3</th><td> 0.8</td></tr>\n",
       "\t<tr><th scope=row>5</th><td> 0.8</td></tr>\n",
       "\t<tr><th scope=row>11</th><td> 0.4</td></tr>\n",
       "\t<tr><th scope=row>8</th><td> 0.3</td></tr>\n",
       "\t<tr><th scope=row>4</th><td> 0.2</td></tr>\n",
       "\t<tr><th scope=row>12</th><td> 0.2</td></tr>\n",
       "\t<tr><th scope=row>13</th><td> 0.2</td></tr>\n",
       "\t<tr><th scope=row>14</th><td> 0.2</td></tr>\n",
       "</tbody>\n",
       "</table>\n"
      ],
      "text/latex": [
       "\\begin{tabular}{r|l}\n",
       "  & Median.Thickness\\\\\n",
       "\\hline\n",
       "\t6 & 10.5\\\\\n",
       "\t16 &  5.8\\\\\n",
       "\t15 &  2.8\\\\\n",
       "\t1 &  2.4\\\\\n",
       "\t9 &  1.5\\\\\n",
       "\t7 &  1.0\\\\\n",
       "\t2 &  0.8\\\\\n",
       "\t3 &  0.8\\\\\n",
       "\t5 &  0.8\\\\\n",
       "\t11 &  0.4\\\\\n",
       "\t8 &  0.3\\\\\n",
       "\t4 &  0.2\\\\\n",
       "\t12 &  0.2\\\\\n",
       "\t13 &  0.2\\\\\n",
       "\t14 &  0.2\\\\\n",
       "\\end{tabular}\n"
      ],
      "text/markdown": [
       "\n",
       "| <!--/--> | Median.Thickness | \n",
       "|---|---|---|---|---|---|---|---|---|---|---|---|---|---|---|\n",
       "| 6 | 10.5 | \n",
       "| 16 |  5.8 | \n",
       "| 15 |  2.8 | \n",
       "| 1 |  2.4 | \n",
       "| 9 |  1.5 | \n",
       "| 7 |  1.0 | \n",
       "| 2 |  0.8 | \n",
       "| 3 |  0.8 | \n",
       "| 5 |  0.8 | \n",
       "| 11 |  0.4 | \n",
       "| 8 |  0.3 | \n",
       "| 4 |  0.2 | \n",
       "| 12 |  0.2 | \n",
       "| 13 |  0.2 | \n",
       "| 14 |  0.2 | \n",
       "\n",
       "\n"
      ],
      "text/plain": [
       "   Median.Thickness\n",
       "6  10.5            \n",
       "16  5.8            \n",
       "15  2.8            \n",
       "1   2.4            \n",
       "9   1.5            \n",
       "7   1.0            \n",
       "2   0.8            \n",
       "3   0.8            \n",
       "5   0.8            \n",
       "11  0.4            \n",
       "8   0.3            \n",
       "4   0.2            \n",
       "12  0.2            \n",
       "13  0.2            \n",
       "14  0.2            "
      ]
     },
     "metadata": {},
     "output_type": "display_data"
    }
   ],
   "source": [
    "#write.table(data.frame(\"Median Thickness\"=sort(tapply(d$Thickness, d$SiteNum, median),decreasing=TRUE)),\"clipboard\",sep=\"\\t\")\n",
    "data.frame(\"Median Thickness\"=sort(tapply(d$Thickness, d$SiteNum, median),decreasing=TRUE))"
   ]
  },
  {
   "cell_type": "markdown",
   "metadata": {},
   "source": [
    "## Plot of group means - with 95% t-int"
   ]
  },
  {
   "cell_type": "code",
   "execution_count": 54,
   "metadata": {},
   "outputs": [
    {
     "data": {},
     "metadata": {},
     "output_type": "display_data"
    },
    {
     "data": {
      "image/png": "[encoded data removed]",
      "text/plain": [
       "plot without title"
      ]
     },
     "metadata": {},
     "output_type": "display_data",
     "source": "R display func"
    }
   ],
   "source": [
    "# Adapted from https://stat.ethz.ch/pipermail/r-help/2010-July/245536.html\n",
    "\n",
    "mcalc <- mean(d$Thickness)\n",
    "\n",
    "n <- 50\n",
    "k <- 15\n",
    "t.crit <- qt(p = .05/2, df = n-k-1, lower.tail=FALSE)\n",
    "\n",
    "df <- data.frame(SiteNum =as.factor(c(1,2,3,4,5,6,7,8,9,11,12,13,14,15,16)),\n",
    "                 Thickness =as.vector(tapply(d$Thickness, d$SiteNum, mean)),\n",
    "                 L =as.vector(tapply(d$Thickness, d$SiteNum, mean) - ((t.crit * tapply(d$Thickness, d$SiteNum,sd))/sqrt(n))),\n",
    "                 U =as.vector(tapply(d$Thickness, d$SiteNum, mean) + ((t.crit * tapply(d$Thickness, d$SiteNum,sd))/sqrt(n))))\n",
    "\n",
    "require(ggplot2)\n",
    "ggplot(df, aes(x = SiteNum, y = Thickness)) +\n",
    "    geom_point(size = 2) +\n",
    "    geom_errorbar(aes(ymax = U, ymin = L)) +\n",
    "    ggtitle(\"Mean Rind Thickness 95% t-interval\")"
   ]
  },
  {
   "cell_type": "markdown",
   "metadata": {},
   "source": [
    "## ANOVA - $Thickness=SiteNum $ "
   ]
  },
  {
   "cell_type": "code",
   "execution_count": 132,
   "metadata": {},
   "outputs": [
    {
     "data": {
      "text/plain": [
       "             Df Sum Sq Mean Sq F value Pr(>F)    \n",
       "SiteNum      14   5724   408.9   369.8 <2e-16 ***\n",
       "Residuals   735    813     1.1                   \n",
       "---\n",
       "Signif. codes:  0 '***' 0.001 '**' 0.01 '*' 0.05 '.' 0.1 ' ' 1"
      ]
     },
     "metadata": {},
     "output_type": "display_data"
    },
    {
     "data": {
      "text/plain": [
       "\n",
       "Call:\n",
       "aov(formula = Thickness ~ SiteNum, data = d)\n",
       "\n",
       "Residuals:\n",
       "    Min      1Q  Median      3Q     Max \n",
       "-7.3820 -0.2480 -0.0240  0.1715  6.8680 \n",
       "\n",
       "Coefficients:\n",
       "            Estimate Std. Error t value Pr(>|t|)    \n",
       "(Intercept)   2.3860     0.1487  16.046  < 2e-16 ***\n",
       "SiteNum2     -1.5040     0.2103  -7.152 2.07e-12 ***\n",
       "SiteNum3     -1.6380     0.2103  -7.789 2.30e-14 ***\n",
       "SiteNum4     -2.0500     0.2103  -9.748  < 2e-16 ***\n",
       "SiteNum5     -1.6600     0.2103  -7.894 1.07e-14 ***\n",
       "SiteNum6      8.0960     0.2103  38.499  < 2e-16 ***\n",
       "SiteNum7     -1.2740     0.2103  -6.058 2.20e-09 ***\n",
       "SiteNum8     -1.9840     0.2103  -9.435  < 2e-16 ***\n",
       "SiteNum9     -0.8920     0.2103  -4.242 2.50e-05 ***\n",
       "SiteNum11    -1.8160     0.2103  -8.636  < 2e-16 ***\n",
       "SiteNum12    -2.1840     0.2103 -10.386  < 2e-16 ***\n",
       "SiteNum13    -2.1640     0.2103 -10.290  < 2e-16 ***\n",
       "SiteNum14    -2.1380     0.2103 -10.167  < 2e-16 ***\n",
       "SiteNum15     0.7700     0.2103   3.662 0.000269 ***\n",
       "SiteNum16     3.9460     0.2103  18.764  < 2e-16 ***\n",
       "---\n",
       "Signif. codes:  0 '***' 0.001 '**' 0.01 '*' 0.05 '.' 0.1 ' ' 1\n",
       "\n",
       "Residual standard error: 1.051 on 735 degrees of freedom\n",
       "Multiple R-squared:  0.8757,\tAdjusted R-squared:  0.8733 \n",
       "F-statistic: 369.8 on 14 and 735 DF,  p-value: < 2.2e-16\n"
      ]
     },
     "metadata": {},
     "output_type": "display_data"
    }
   ],
   "source": [
    "fit.aov<-aov(Thickness~SiteNum, data=d)\n",
    "summary(fit.aov)\n",
    "summary.lm(fit.aov)"
   ]
  },
  {
   "cell_type": "markdown",
   "metadata": {},
   "source": [
    "Suggests that there are groups with significant differences in mean rind thickness\n",
    "\n",
    "### Regression residual diagnostic plots"
   ]
  },
  {
   "cell_type": "code",
   "execution_count": 57,
   "metadata": {},
   "outputs": [
    {
     "data": {
      "image/png": "[encoded data removed]",
      "text/plain": [
       "Plot with title \"\""
      ]
     },
     "metadata": {},
     "output_type": "display_data",
     "source": "R display func"
    }
   ],
   "source": [
    "fit.aov<-aov(Thickness~SiteNum, data=d)\n",
    "opar <- par(mfrow=c(2,2))\n",
    "plot(fit.aov)\n",
    "par(opar)"
   ]
  },
  {
   "cell_type": "markdown",
   "metadata": {},
   "source": [
    "Issues with normality and homoskedastic variance  \n",
    "A few points with high standardised residuals - namely 268, 276 and 726\n",
    "+ Note - 276 and 268 are in the same group"
   ]
  },
  {
   "cell_type": "markdown",
   "metadata": {},
   "source": [
    "## Ranked sum tests - Kruskal test"
   ]
  },
  {
   "cell_type": "code",
   "execution_count": 9,
   "metadata": {},
   "outputs": [
    {
     "data": {
      "text/plain": [
       "\n",
       "\tKruskal-Wallis rank sum test\n",
       "\n",
       "data:  Thickness by SiteNum\n",
       "Kruskal-Wallis chi-squared = 637.4, df = 14, p-value < 2.2e-16\n"
      ]
     },
     "metadata": {},
     "output_type": "display_data"
    }
   ],
   "source": [
    "kruskal.test(Thickness~SiteNum, data=d)"
   ]
  },
  {
   "cell_type": "markdown",
   "metadata": {},
   "source": [
    "very significant p-value - same as ANOVA - this agrees with result of ANOVA"
   ]
  },
  {
   "cell_type": "markdown",
   "metadata": {},
   "source": [
    "## TukeyHSD post-hoc $Thickness=SiteNum $ \n",
    "** Assumptions **\n",
    "+ The observations being tested are independent within and among the groups.\n",
    "+ The groups associated with each mean in the test are normally distributed.\n",
    "+ There is equal within-group variance across the groups associated with each mean in the test (homogeneity of variance).\n",
    "\n",
    "Data is not normally distributed and not homoskedastic - therefore TukeyHSD is not valid"
   ]
  },
  {
   "cell_type": "code",
   "execution_count": 2,
   "metadata": {},
   "outputs": [
    {
     "data": {
      "text/html": [
       "<table>\n",
       "<thead><tr><th></th><th scope=col>1</th><th scope=col>2</th><th scope=col>3</th><th scope=col>4</th><th scope=col>5</th><th scope=col>6</th><th scope=col>7</th><th scope=col>8</th><th scope=col>9</th><th scope=col>11</th><th scope=col>12</th><th scope=col>13</th><th scope=col>14</th><th scope=col>15</th><th scope=col>16</th></tr></thead>\n",
       "<tbody>\n",
       "\t<tr><th scope=row>1</th><td>     </td><td>     </td><td>     </td><td>     </td><td>     </td><td>     </td><td>     </td><td>     </td><td>     </td><td>     </td><td>     </td><td>     </td><td>     </td><td>     </td><td>     </td></tr>\n",
       "\t<tr><th scope=row>2</th><td>0    </td><td>     </td><td>     </td><td>     </td><td>     </td><td>     </td><td>     </td><td>     </td><td>     </td><td>     </td><td>     </td><td>     </td><td>     </td><td>     </td><td>     </td></tr>\n",
       "\t<tr><th scope=row>3</th><td>0    </td><td>1    </td><td>     </td><td>     </td><td>     </td><td>     </td><td>     </td><td>     </td><td>     </td><td>     </td><td>     </td><td>     </td><td>     </td><td>     </td><td>     </td></tr>\n",
       "\t<tr><th scope=row>4</th><td>0    </td><td>0.374</td><td>0.822</td><td>     </td><td>     </td><td>     </td><td>     </td><td>     </td><td>     </td><td>     </td><td>     </td><td>     </td><td>     </td><td>     </td><td>     </td></tr>\n",
       "\t<tr><th scope=row>5</th><td>0    </td><td>1    </td><td>1    </td><td>0.875</td><td>     </td><td>     </td><td>     </td><td>     </td><td>     </td><td>     </td><td>     </td><td>     </td><td>     </td><td>     </td><td>     </td></tr>\n",
       "\t<tr><th scope=row>6</th><td>0    </td><td>0    </td><td>0    </td><td>0    </td><td>0    </td><td>     </td><td>     </td><td>     </td><td>     </td><td>     </td><td>     </td><td>     </td><td>     </td><td>     </td><td>     </td></tr>\n",
       "\t<tr><th scope=row>7</th><td>0    </td><td>0.999</td><td>0.923</td><td>0.019</td><td>0.883</td><td>0    </td><td>     </td><td>     </td><td>     </td><td>     </td><td>     </td><td>     </td><td>     </td><td>     </td><td>     </td></tr>\n",
       "\t<tr><th scope=row>8</th><td>0    </td><td>0.604</td><td>0.948</td><td>1    </td><td>0.97 </td><td>0    </td><td>0.054</td><td>     </td><td>     </td><td>     </td><td>     </td><td>     </td><td>     </td><td>     </td><td>     </td></tr>\n",
       "\t<tr><th scope=row>9</th><td>0.002</td><td>0.194</td><td>0.031</td><td>0    </td><td>0.022</td><td>0    </td><td>0.891</td><td>0    </td><td>     </td><td>     </td><td>     </td><td>     </td><td>     </td><td>     </td><td>     </td></tr>\n",
       "\t<tr><th scope=row>11</th><td>0    </td><td>0.978</td><td>1    </td><td>0.999</td><td>1    </td><td>0    </td><td>0.387</td><td>1    </td><td>0.001</td><td>     </td><td>     </td><td>     </td><td>     </td><td>     </td><td>     </td></tr>\n",
       "\t<tr><th scope=row>12</th><td>0    </td><td>0.083</td><td>0.374</td><td>1    </td><td>0.448</td><td>0    </td><td>0.002</td><td>1    </td><td>0    </td><td>0.917</td><td>     </td><td>     </td><td>     </td><td>     </td><td>     </td></tr>\n",
       "\t<tr><th scope=row>13</th><td>0    </td><td>0.108</td><td>0.441</td><td>1    </td><td>0.518</td><td>0    </td><td>0.002</td><td>1    </td><td>0    </td><td>0.946</td><td>1    </td><td>     </td><td>     </td><td>     </td><td>     </td></tr>\n",
       "\t<tr><th scope=row>14</th><td>0    </td><td>0.15 </td><td>0.532</td><td>1    </td><td>0.611</td><td>0    </td><td>0.004</td><td>1    </td><td>0    </td><td>0.971</td><td>1    </td><td>1    </td><td>     </td><td>     </td><td>     </td></tr>\n",
       "\t<tr><th scope=row>15</th><td>0.021</td><td>0    </td><td>0    </td><td>0    </td><td>0    </td><td>0    </td><td>0    </td><td>0    </td><td>0    </td><td>0    </td><td>0    </td><td>0    </td><td>0    </td><td>     </td><td>     </td></tr>\n",
       "\t<tr><th scope=row>16</th><td>0    </td><td>0    </td><td>0    </td><td>0    </td><td>0    </td><td>0    </td><td>0    </td><td>0    </td><td>0    </td><td>0    </td><td>0    </td><td>0    </td><td>0    </td><td>0    </td><td>     </td></tr>\n",
       "</tbody>\n",
       "</table>\n"
      ],
      "text/latex": [
       "\\begin{tabular}{r|lllllllllllllll}\n",
       "  & 1 & 2 & 3 & 4 & 5 & 6 & 7 & 8 & 9 & 11 & 12 & 13 & 14 & 15 & 16\\\\\n",
       "\\hline\n",
       "\t1 &       &       &       &       &       &       &       &       &       &       &       &       &       &       &      \\\\\n",
       "\t2 & 0     &       &       &       &       &       &       &       &       &       &       &       &       &       &      \\\\\n",
       "\t3 & 0     & 1     &       &       &       &       &       &       &       &       &       &       &       &       &      \\\\\n",
       "\t4 & 0     & 0.374 & 0.822 &       &       &       &       &       &       &       &       &       &       &       &      \\\\\n",
       "\t5 & 0     & 1     & 1     & 0.875 &       &       &       &       &       &       &       &       &       &       &      \\\\\n",
       "\t6 & 0     & 0     & 0     & 0     & 0     &       &       &       &       &       &       &       &       &       &      \\\\\n",
       "\t7 & 0     & 0.999 & 0.923 & 0.019 & 0.883 & 0     &       &       &       &       &       &       &       &       &      \\\\\n",
       "\t8 & 0     & 0.604 & 0.948 & 1     & 0.97  & 0     & 0.054 &       &       &       &       &       &       &       &      \\\\\n",
       "\t9 & 0.002 & 0.194 & 0.031 & 0     & 0.022 & 0     & 0.891 & 0     &       &       &       &       &       &       &      \\\\\n",
       "\t11 & 0     & 0.978 & 1     & 0.999 & 1     & 0     & 0.387 & 1     & 0.001 &       &       &       &       &       &      \\\\\n",
       "\t12 & 0     & 0.083 & 0.374 & 1     & 0.448 & 0     & 0.002 & 1     & 0     & 0.917 &       &       &       &       &      \\\\\n",
       "\t13 & 0     & 0.108 & 0.441 & 1     & 0.518 & 0     & 0.002 & 1     & 0     & 0.946 & 1     &       &       &       &      \\\\\n",
       "\t14 & 0     & 0.15  & 0.532 & 1     & 0.611 & 0     & 0.004 & 1     & 0     & 0.971 & 1     & 1     &       &       &      \\\\\n",
       "\t15 & 0.021 & 0     & 0     & 0     & 0     & 0     & 0     & 0     & 0     & 0     & 0     & 0     & 0     &       &      \\\\\n",
       "\t16 & 0     & 0     & 0     & 0     & 0     & 0     & 0     & 0     & 0     & 0     & 0     & 0     & 0     & 0     &      \\\\\n",
       "\\end{tabular}\n"
      ],
      "text/markdown": [
       "\n",
       "| <!--/--> | 1 | 2 | 3 | 4 | 5 | 6 | 7 | 8 | 9 | 11 | 12 | 13 | 14 | 15 | 16 | \n",
       "|---|---|---|---|---|---|---|---|---|---|---|---|---|---|---|\n",
       "| 1 |       |       |       |       |       |       |       |       |       |       |       |       |       |       |       | \n",
       "| 2 | 0     |       |       |       |       |       |       |       |       |       |       |       |       |       |       | \n",
       "| 3 | 0     | 1     |       |       |       |       |       |       |       |       |       |       |       |       |       | \n",
       "| 4 | 0     | 0.374 | 0.822 |       |       |       |       |       |       |       |       |       |       |       |       | \n",
       "| 5 | 0     | 1     | 1     | 0.875 |       |       |       |       |       |       |       |       |       |       |       | \n",
       "| 6 | 0     | 0     | 0     | 0     | 0     |       |       |       |       |       |       |       |       |       |       | \n",
       "| 7 | 0     | 0.999 | 0.923 | 0.019 | 0.883 | 0     |       |       |       |       |       |       |       |       |       | \n",
       "| 8 | 0     | 0.604 | 0.948 | 1     | 0.97  | 0     | 0.054 |       |       |       |       |       |       |       |       | \n",
       "| 9 | 0.002 | 0.194 | 0.031 | 0     | 0.022 | 0     | 0.891 | 0     |       |       |       |       |       |       |       | \n",
       "| 11 | 0     | 0.978 | 1     | 0.999 | 1     | 0     | 0.387 | 1     | 0.001 |       |       |       |       |       |       | \n",
       "| 12 | 0     | 0.083 | 0.374 | 1     | 0.448 | 0     | 0.002 | 1     | 0     | 0.917 |       |       |       |       |       | \n",
       "| 13 | 0     | 0.108 | 0.441 | 1     | 0.518 | 0     | 0.002 | 1     | 0     | 0.946 | 1     |       |       |       |       | \n",
       "| 14 | 0     | 0.15  | 0.532 | 1     | 0.611 | 0     | 0.004 | 1     | 0     | 0.971 | 1     | 1     |       |       |       | \n",
       "| 15 | 0.021 | 0     | 0     | 0     | 0     | 0     | 0     | 0     | 0     | 0     | 0     | 0     | 0     |       |       | \n",
       "| 16 | 0     | 0     | 0     | 0     | 0     | 0     | 0     | 0     | 0     | 0     | 0     | 0     | 0     | 0     |       | \n",
       "\n",
       "\n"
      ],
      "text/plain": [
       "   1     2     3     4     5     6 7     8 9     11    12 13 14 15 16\n",
       "1                                                                    \n",
       "2  0                                                                 \n",
       "3  0     1                                                           \n",
       "4  0     0.374 0.822                                                 \n",
       "5  0     1     1     0.875                                           \n",
       "6  0     0     0     0     0                                         \n",
       "7  0     0.999 0.923 0.019 0.883 0                                   \n",
       "8  0     0.604 0.948 1     0.97  0 0.054                             \n",
       "9  0.002 0.194 0.031 0     0.022 0 0.891 0                           \n",
       "11 0     0.978 1     0.999 1     0 0.387 1 0.001                     \n",
       "12 0     0.083 0.374 1     0.448 0 0.002 1 0     0.917               \n",
       "13 0     0.108 0.441 1     0.518 0 0.002 1 0     0.946 1             \n",
       "14 0     0.15  0.532 1     0.611 0 0.004 1 0     0.971 1  1          \n",
       "15 0.021 0     0     0     0     0 0     0 0     0     0  0  0       \n",
       "16 0     0     0     0     0     0 0     0 0     0     0  0  0  0    "
      ]
     },
     "metadata": {},
     "output_type": "display_data"
    }
   ],
   "source": [
    "# Adapted from https://stackoverflow.com/questions/24598710/presenting-tukey-hsd-pairwise-p-values-in-a-table\n",
    "\n",
    "hsd <- TukeyHSD(aov(Thickness~SiteNum, data=d), which = \"SiteNum\")\n",
    "\n",
    "row.pvalues<-data.frame(hsd$SiteNum)$p.adj\n",
    "\n",
    "num.groups<-length(unique(d$SiteNum))\n",
    "\n",
    "p.table <- matrix(\"\", num.groups, num.groups)\n",
    "p.table[lower.tri(p.table)] <-round(row.pvalues, 3)\n",
    "\n",
    "colnames(p.table)<-unique(d$SiteNum)\n",
    "rownames(p.table)<-unique(d$SiteNum)\n",
    "\n",
    "p.table"
   ]
  },
  {
   "cell_type": "markdown",
   "metadata": {},
   "source": [
    "## Testing equal varaince - $Thickness=SiteNum $ "
   ]
  },
  {
   "cell_type": "code",
   "execution_count": 134,
   "metadata": {},
   "outputs": [
    {
     "data": {
      "image/png": "[encoded data removed]",
      "text/plain": [
       "plot without title"
      ]
     },
     "metadata": {},
     "output_type": "display_data",
     "source": "R display func"
    }
   ],
   "source": [
    "opar <- par(mfrow=c(1,2))\n",
    "plot.design(Thickness~SiteNum,data=d,fun=var)\n",
    "plot(Thickness~SiteNum, data=d)\n",
    "par(opar)"
   ]
  },
  {
   "cell_type": "markdown",
   "metadata": {},
   "source": [
    "### Max variance vs Min variance in groups"
   ]
  },
  {
   "cell_type": "code",
   "execution_count": 4,
   "metadata": {},
   "outputs": [
    {
     "data": {
      "text/html": [
       "1457.07628398792"
      ],
      "text/latex": [
       "1457.07628398792"
      ],
      "text/markdown": [
       "1457.07628398792"
      ],
      "text/plain": [
       "[1] 1457.076"
      ]
     },
     "metadata": {},
     "output_type": "display_data"
    }
   ],
   "source": [
    "var <- sort(tapply(d$Thickness, d$SiteNum, var),decreasing=TRUE)\n",
    "max(var)/min(var)"
   ]
  },
  {
   "cell_type": "markdown",
   "metadata": {},
   "source": [
    "### Bartlett test - $Thickness=SiteNum $ "
   ]
  },
  {
   "cell_type": "code",
   "execution_count": 7,
   "metadata": {},
   "outputs": [
    {
     "data": {
      "text/plain": [
       "\n",
       "\tBartlett test of homogeneity of variances\n",
       "\n",
       "data:  Thickness by SiteNum\n",
       "Bartlett's K-squared = 1439.5, df = 14, p-value < 2.2e-16\n"
      ]
     },
     "metadata": {},
     "output_type": "display_data"
    }
   ],
   "source": [
    "bartlett.test(Thickness~SiteNum, data=d)"
   ]
  },
  {
   "cell_type": "markdown",
   "metadata": {},
   "source": [
    "### Levene test - $Thickness=SiteNum $ "
   ]
  },
  {
   "cell_type": "code",
   "execution_count": 8,
   "metadata": {},
   "outputs": [
    {
     "name": "stderr",
     "output_type": "stream",
     "text": [
      "Warning message:\n",
      "\"package 'car' was built under R version 3.3.3\""
     ]
    },
    {
     "data": {
      "text/html": [
       "<table>\n",
       "<thead><tr><th></th><th scope=col>Df</th><th scope=col>F value</th><th scope=col>Pr(&gt;F)</th></tr></thead>\n",
       "<tbody>\n",
       "\t<tr><th scope=row>group</th><td> 14         </td><td>45.00969    </td><td>5.447795e-89</td></tr>\n",
       "\t<tr><th scope=row> </th><td>735         </td><td>      NA    </td><td>          NA</td></tr>\n",
       "</tbody>\n",
       "</table>\n"
      ],
      "text/latex": [
       "\\begin{tabular}{r|lll}\n",
       "  & Df & F value & Pr(>F)\\\\\n",
       "\\hline\n",
       "\tgroup &  14          & 45.00969     & 5.447795e-89\\\\\n",
       "\t  & 735          &       NA     &           NA\\\\\n",
       "\\end{tabular}\n"
      ],
      "text/markdown": [
       "\n",
       "| <!--/--> | Df | F value | Pr(>F) | \n",
       "|---|---|\n",
       "| group |  14          | 45.00969     | 5.447795e-89 | \n",
       "|   | 735          |       NA     |           NA | \n",
       "\n",
       "\n"
      ],
      "text/plain": [
       "      Df  F value  Pr(>F)      \n",
       "group  14 45.00969 5.447795e-89\n",
       "      735       NA           NA"
      ]
     },
     "metadata": {},
     "output_type": "display_data"
    }
   ],
   "source": [
    "#install.packages(\"car\",repos = \"https://mirror.aarnet.edu.au/pub/CRAN/\", dependencies = TRUE)\n",
    "library(car)\n",
    "leveneTest(d$Thickness,d$SiteNum)"
   ]
  },
  {
   "cell_type": "markdown",
   "metadata": {},
   "source": [
    "## Box cox plot"
   ]
  },
  {
   "cell_type": "code",
   "execution_count": 6,
   "metadata": {},
   "outputs": [
    {
     "data": {
      "image/png": "[encoded data removed]",
      "text/plain": [
       "plot without title"
      ]
     },
     "metadata": {},
     "output_type": "display_data",
     "source": "R display func"
    }
   ],
   "source": [
    "library(MASS)\n",
    "boxcox(Thickness~SiteNum, data=d)\n",
    "# suggests log"
   ]
  },
  {
   "cell_type": "markdown",
   "metadata": {},
   "source": [
    "## ANOVA $log(Thickness)=SiteNum $ "
   ]
  },
  {
   "cell_type": "code",
   "execution_count": 17,
   "metadata": {},
   "outputs": [
    {
     "data": {
      "text/plain": [
       "             Df Sum Sq Mean Sq F value Pr(>F)    \n",
       "SiteNum      13 1021.0   78.54   433.6 <2e-16 ***\n",
       "Residuals   686  124.2    0.18                   \n",
       "---\n",
       "Signif. codes:  0 '***' 0.001 '**' 0.01 '*' 0.05 '.' 0.1 ' ' 1"
      ]
     },
     "metadata": {},
     "output_type": "display_data"
    },
    {
     "data": {
      "text/plain": [
       "\n",
       "Call:\n",
       "aov(formula = log(Thickness) ~ SiteNum, data = d[d$SiteNum != \n",
       "    \"11\", ])\n",
       "\n",
       "Residuals:\n",
       "     Min       1Q   Median       3Q      Max \n",
       "-1.48353 -0.23683  0.02115  0.29626  1.37569 \n",
       "\n",
       "Coefficients:\n",
       "            Estimate Std. Error t value Pr(>|t|)    \n",
       "(Intercept)  0.79038    0.06019  13.132  < 2e-16 ***\n",
       "SiteNum2    -1.03467    0.08511 -12.156  < 2e-16 ***\n",
       "SiteNum3    -1.19082    0.08511 -13.991  < 2e-16 ***\n",
       "SiteNum4    -1.98476    0.08511 -23.319  < 2e-16 ***\n",
       "SiteNum5    -1.24670    0.08511 -14.647  < 2e-16 ***\n",
       "SiteNum6     1.51834    0.08511  17.839  < 2e-16 ***\n",
       "SiteNum7    -0.77445    0.08511  -9.099  < 2e-16 ***\n",
       "SiteNum8    -1.78331    0.08511 -20.952  < 2e-16 ***\n",
       "SiteNum9    -0.43004    0.08511  -5.052  5.6e-07 ***\n",
       "SiteNum12   -2.48873    0.08511 -29.240  < 2e-16 ***\n",
       "SiteNum13   -2.35950    0.08511 -27.721  < 2e-16 ***\n",
       "SiteNum14   -2.22848    0.08511 -26.182  < 2e-16 ***\n",
       "SiteNum15    0.22918    0.08511   2.693  0.00726 ** \n",
       "SiteNum16    1.01120    0.08511  11.880  < 2e-16 ***\n",
       "---\n",
       "Signif. codes:  0 '***' 0.001 '**' 0.01 '*' 0.05 '.' 0.1 ' ' 1\n",
       "\n",
       "Residual standard error: 0.4256 on 686 degrees of freedom\n",
       "Multiple R-squared:  0.8915,\tAdjusted R-squared:  0.8895 \n",
       "F-statistic: 433.6 on 13 and 686 DF,  p-value: < 2.2e-16\n"
      ]
     },
     "metadata": {},
     "output_type": "display_data"
    },
    {
     "data": {
      "image/png": "[encoded data removed]",
      "text/plain": [
       "Plot with title \"\""
      ]
     },
     "metadata": {},
     "output_type": "display_data",
     "source": "R display func"
    }
   ],
   "source": [
    "fit.aov<-aov(log(Thickness)~SiteNum, data=d[d$SiteNum!=\"11\",])\n",
    "summary(fit.aov)\n",
    "summary.lm(fit.aov)\n",
    "opar <- par(mfrow=c(2,2))\n",
    "plot(fit.aov)\n",
    "par(opar)"
   ]
  },
  {
   "cell_type": "markdown",
   "metadata": {},
   "source": [
    "Normality now looks reasonable - but still heteroskedastic"
   ]
  },
  {
   "cell_type": "markdown",
   "metadata": {},
   "source": [
    "## Ranked sum tests - Kruskal test"
   ]
  },
  {
   "cell_type": "code",
   "execution_count": 11,
   "metadata": {},
   "outputs": [
    {
     "data": {
      "text/plain": [
       "\n",
       "\tKruskal-Wallis rank sum test\n",
       "\n",
       "data:  log(Thickness) by SiteNum\n",
       "Kruskal-Wallis chi-squared = 637.4, df = 14, p-value < 2.2e-16\n"
      ]
     },
     "metadata": {},
     "output_type": "display_data"
    }
   ],
   "source": [
    "kruskal.test(log(Thickness)~SiteNum, data=d)"
   ]
  },
  {
   "cell_type": "markdown",
   "metadata": {},
   "source": [
    "very significant p-value - same as ANOVA"
   ]
  },
  {
   "cell_type": "markdown",
   "metadata": {},
   "source": [
    "## Testing equal varaince - $log(Thickness)=SiteNum $ "
   ]
  },
  {
   "cell_type": "code",
   "execution_count": 138,
   "metadata": {},
   "outputs": [
    {
     "data": {
      "image/png": "[encoded data removed]",
      "text/plain": [
       "plot without title"
      ]
     },
     "metadata": {},
     "output_type": "display_data",
     "source": "R display func"
    }
   ],
   "source": [
    "opar <- par(mfrow=c(1,2))\n",
    "plot.design(log(Thickness)~SiteNum,data=d,fun=var)\n",
    "plot(log(Thickness)~SiteNum, data=d)\n",
    "par(opar)"
   ]
  },
  {
   "cell_type": "markdown",
   "metadata": {},
   "source": [
    "### Max variance vs Min variance in groups"
   ]
  },
  {
   "cell_type": "code",
   "execution_count": 5,
   "metadata": {},
   "outputs": [
    {
     "data": {
      "text/html": [
       "4.87988419782585"
      ],
      "text/latex": [
       "4.87988419782585"
      ],
      "text/markdown": [
       "4.87988419782585"
      ],
      "text/plain": [
       "[1] 4.879884"
      ]
     },
     "metadata": {},
     "output_type": "display_data"
    }
   ],
   "source": [
    "var <- sort(tapply(log(d$Thickness), d$SiteNum, var),decreasing=TRUE)\n",
    "max(var)/min(var)"
   ]
  },
  {
   "cell_type": "markdown",
   "metadata": {},
   "source": [
    "Still a problem - rule of thumb - no greater than 4 times  \n",
    "https://stats.stackexchange.com/questions/91872/alternatives-to-one-way-anova-for-heteroskedastic-data"
   ]
  },
  {
   "cell_type": "markdown",
   "metadata": {},
   "source": [
    "### Bartlett test - $log(Thickness)=SiteNum $ "
   ]
  },
  {
   "cell_type": "code",
   "execution_count": 21,
   "metadata": {},
   "outputs": [
    {
     "data": {
      "text/plain": [
       "\n",
       "\tBartlett test of homogeneity of variances\n",
       "\n",
       "data:  log(Thickness) by SiteNum\n",
       "Bartlett's K-squared = 82.55, df = 14, p-value = 9.497e-12\n"
      ]
     },
     "metadata": {},
     "output_type": "display_data"
    }
   ],
   "source": [
    "bartlett.test(log(Thickness)~SiteNum, data=d)"
   ]
  },
  {
   "cell_type": "markdown",
   "metadata": {},
   "source": [
    "### Levene test - $log(Thickness)=SiteNum $ "
   ]
  },
  {
   "cell_type": "code",
   "execution_count": 23,
   "metadata": {},
   "outputs": [
    {
     "data": {
      "text/html": [
       "<table>\n",
       "<thead><tr><th></th><th scope=col>Df</th><th scope=col>F value</th><th scope=col>Pr(&gt;F)</th></tr></thead>\n",
       "<tbody>\n",
       "\t<tr><th scope=row>group</th><td> 14         </td><td>3.028675    </td><td>0.0001452579</td></tr>\n",
       "\t<tr><th scope=row> </th><td>735         </td><td>      NA    </td><td>          NA</td></tr>\n",
       "</tbody>\n",
       "</table>\n"
      ],
      "text/latex": [
       "\\begin{tabular}{r|lll}\n",
       "  & Df & F value & Pr(>F)\\\\\n",
       "\\hline\n",
       "\tgroup &  14          & 3.028675     & 0.0001452579\\\\\n",
       "\t  & 735          &       NA     &           NA\\\\\n",
       "\\end{tabular}\n"
      ],
      "text/markdown": [
       "\n",
       "| <!--/--> | Df | F value | Pr(>F) | \n",
       "|---|---|\n",
       "| group |  14          | 3.028675     | 0.0001452579 | \n",
       "|   | 735          |       NA     |           NA | \n",
       "\n",
       "\n"
      ],
      "text/plain": [
       "      Df  F value  Pr(>F)      \n",
       "group  14 3.028675 0.0001452579\n",
       "      735       NA           NA"
      ]
     },
     "metadata": {},
     "output_type": "display_data"
    }
   ],
   "source": [
    "#install.packages(\"car\",repos = \"https://mirror.aarnet.edu.au/pub/CRAN/\", dependencies = TRUE)\n",
    "library(car)\n",
    "leveneTest(log(d$Thickness),d$SiteNum)"
   ]
  },
  {
   "cell_type": "markdown",
   "metadata": {},
   "source": [
    "## Welch's ANOVA $log(Thickness)=SiteNum $ \n",
    "Requires normality, but can be used with heteroskedasticity and unequal sample sizes"
   ]
  },
  {
   "cell_type": "code",
   "execution_count": 4,
   "metadata": {},
   "outputs": [
    {
     "data": {
      "text/plain": [
       "\n",
       "\tOne-way analysis of means (not assuming equal variances)\n",
       "\n",
       "data:  log(Thickness) and SiteNum\n",
       "F = 604.73, num df = 14.00, denom df = 279.66, p-value < 2.2e-16\n"
      ]
     },
     "metadata": {},
     "output_type": "display_data"
    }
   ],
   "source": [
    "oneway.test(log(Thickness)~SiteNum, data=d,var.equal=FALSE)"
   ]
  },
  {
   "cell_type": "markdown",
   "metadata": {},
   "source": [
    "P-value indicates that there is at least one group with significant difference to grand mean\n",
    "## Pairwise t.test $log(Thickness)=SiteNum $ "
   ]
  },
  {
   "cell_type": "code",
   "execution_count": 141,
   "metadata": {},
   "outputs": [
    {
     "data": {
      "text/plain": [
       "\n",
       "\tPairwise comparisons using t tests with non-pooled SD \n",
       "\n",
       "data:  log(d$Thickness) and d$SiteNum \n",
       "\n",
       "   1       2       3       4       5       6       7       8       9      \n",
       "2  < 2e-16 -       -       -       -       -       -       -       -      \n",
       "3  < 2e-16 0.47575 -       -       -       -       -       -       -      \n",
       "4  < 2e-16 3.3e-15 2.8e-11 -       -       -       -       -       -      \n",
       "5  < 2e-16 0.28515 0.60473 4.6e-09 -       -       -       -       -      \n",
       "6  < 2e-16 < 2e-16 < 2e-16 < 2e-16 < 2e-16 -       -       -       -      \n",
       "7  1.1e-12 0.05127 0.00040 < 2e-16 0.00018 < 2e-16 -       -       -      \n",
       "8  < 2e-16 1.5e-11 1.1e-07 0.15885 8.7e-06 < 2e-16 < 2e-16 -       -      \n",
       "9  2.8e-06 1.9e-09 1.8e-12 < 2e-16 5.7e-12 < 2e-16 0.00021 < 2e-16 -      \n",
       "11 < 2e-16 2.5e-05 0.00427 0.02323 0.02495 < 2e-16 5.8e-10 0.47575 < 2e-16\n",
       "12 < 2e-16 < 2e-16 < 2e-16 5.3e-06 < 2e-16 < 2e-16 < 2e-16 2.9e-11 < 2e-16\n",
       "13 < 2e-16 < 2e-16 < 2e-16 0.00026 < 2e-16 < 2e-16 < 2e-16 7.8e-10 < 2e-16\n",
       "14 < 2e-16 < 2e-16 < 2e-16 0.02495 2.8e-15 < 2e-16 < 2e-16 3.1e-07 < 2e-16\n",
       "15 0.15885 < 2e-16 < 2e-16 < 2e-16 < 2e-16 < 2e-16 1.0e-15 < 2e-16 1.0e-09\n",
       "16 < 2e-16 < 2e-16 < 2e-16 < 2e-16 < 2e-16 9.0e-12 < 2e-16 < 2e-16 < 2e-16\n",
       "   11      12      13      14      15     \n",
       "2  -       -       -       -       -      \n",
       "3  -       -       -       -       -      \n",
       "4  -       -       -       -       -      \n",
       "5  -       -       -       -       -      \n",
       "6  -       -       -       -       -      \n",
       "7  -       -       -       -       -      \n",
       "8  -       -       -       -       -      \n",
       "9  -       -       -       -       -      \n",
       "11 -       -       -       -       -      \n",
       "12 5.8e-10 -       -       -       -      \n",
       "13 2.3e-08 0.47575 -       -       -      \n",
       "14 2.3e-06 0.01472 0.28515 -       -      \n",
       "15 < 2e-16 < 2e-16 < 2e-16 < 2e-16 -      \n",
       "16 < 2e-16 < 2e-16 < 2e-16 < 2e-16 2.2e-12\n",
       "\n",
       "P value adjustment method: holm "
      ]
     },
     "metadata": {},
     "output_type": "display_data"
    }
   ],
   "source": [
    "data <- pairwise.t.test(log(d$Thickness),d$SiteNum, pool.sd=FALSE)\n",
    "write.table(data[3], \"clipboard\", quote=FALSE, sep=\"\\t\")\n",
    "data"
   ]
  },
  {
   "cell_type": "markdown",
   "metadata": {},
   "source": [
    "## Games-Howell test  $log(Thickness)=SiteNum $ \n",
    "The Games-Howell post-hoc test is another nonparametric approach to compare combinations of groups or treatments. Although rather similar to Tukey’s test in its formulation, the Games-Howell test does not assume equal variances and sample sizes. The test was designed based on Welch’s degrees of freedom correction and uses Tukey’s studentized range distribution, denoted qq. The Games-Howell test is performed on the ranked variables similar to other nonparametric tests. Since the Games-Howell test does not rely on equal variances and sample sizes, it is often recommended over other approaches such as Tukey’s test."
   ]
  },
  {
   "cell_type": "code",
   "execution_count": 2,
   "metadata": {},
   "outputs": [],
   "source": [
    "## So here is the code that the super awesome guy wrote \n",
    "## that will get our games howell confidence intervals.\n",
    "\n",
    "## Just highlight the whole thing and read it all in.\n",
    "\n",
    "## Then, once you've done that, you can try your analysis...\n",
    "## something like (assuming you called your data \"rind\")\n",
    "\n",
    "## games.howell(rind$SiteNum, rind$Thickness)\n",
    "\n",
    "## That should get you what you want.\n",
    "\n",
    "games.howell <- function(grp, obs) {\n",
    "  \n",
    "  #Create combinations\n",
    "  combs <- combn(unique(grp), 2)\n",
    "  \n",
    "  # Statistics that will be used throughout the calculations:\n",
    "  # n = sample size of each group\n",
    "  # groups = number of groups in data\n",
    "  # Mean = means of each group sample\n",
    "  # std = variance of each group sample\n",
    "  n <- tapply(obs, grp, length)\n",
    "  groups <- length(tapply(obs, grp, length))\n",
    "  Mean <- tapply(obs, grp, mean)\n",
    "  std <- tapply(obs, grp, var)\n",
    "  \n",
    "  statistics <- lapply(1:ncol(combs), function(x) {\n",
    "    \n",
    "    mean.diff <- Mean[combs[2,x]] - Mean[combs[1,x]]\n",
    "    \n",
    "    #t-values\n",
    "    t <- abs(Mean[combs[1,x]] - Mean[combs[2,x]]) / sqrt((std[combs[1,x]] / n[combs[1,x]]) + (std[combs[2,x]] / n[combs[2,x]]))\n",
    "    \n",
    "    # Degrees of Freedom\n",
    "    df <- (std[combs[1,x]] / n[combs[1,x]] + std[combs[2,x]] / n[combs[2,x]])^2 / # Numerator Degrees of Freedom\n",
    "      ((std[combs[1,x]] / n[combs[1,x]])^2 / (n[combs[1,x]] - 1) + # Part 1 of Denominator Degrees of Freedom \n",
    "         (std[combs[2,x]] / n[combs[2,x]])^2 / (n[combs[2,x]] - 1)) # Part 2 of Denominator Degrees of Freedom\n",
    "    \n",
    "    #p-values\n",
    "    p <- ptukey(t * sqrt(2), groups, df, lower.tail = FALSE)\n",
    "    \n",
    "    # Sigma standard error\n",
    "    se <- sqrt(0.5 * (std[combs[1,x]] / n[combs[1,x]] + std[combs[2,x]] / n[combs[2,x]]))\n",
    "    \n",
    "    # Upper Confidence Limit\n",
    "    upper.conf <- lapply(1:ncol(combs), function(x) {\n",
    "      mean.diff + qtukey(p = 0.95, nmeans = groups, df = df) * se\n",
    "    })[[1]]\n",
    "    \n",
    "    # Lower Confidence Limit\n",
    "    lower.conf <- lapply(1:ncol(combs), function(x) {\n",
    "      mean.diff - qtukey(p = 0.95, nmeans = groups, df = df) * se\n",
    "    })[[1]]\n",
    "    \n",
    "    # Group Combinations\n",
    "    grp.comb <- paste(combs[1,x], ':', combs[2,x])\n",
    "    \n",
    "    # Collect all statistics into list\n",
    "    stats <- list(grp.comb, mean.diff, se, t, df, p, upper.conf, lower.conf)\n",
    "  })\n",
    "  \n",
    "  # Unlist statistics collected earlier\n",
    "  stats.unlisted <- lapply(statistics, function(x) {\n",
    "    unlist(x)\n",
    "  })\n",
    "  \n",
    "  # Create dataframe from flattened list\n",
    "  results <- data.frame(matrix(unlist(stats.unlisted), nrow = length(stats.unlisted), byrow=TRUE))\n",
    "  \n",
    "  # Select columns set as factors that should be numeric and change with as.numeric\n",
    "  results[c(2, 3:ncol(results))] <- round(as.numeric(as.matrix(results[c(2, 3:ncol(results))])), digits = 3)\n",
    "  \n",
    "  # Rename data frame columns\n",
    "  colnames(results) <- c('groups', 'Mean Difference', 'Standard Error', 't', 'df', 'p', 'upper limit', 'lower limit')\n",
    "  \n",
    "  return(results)\n",
    "}"
   ]
  },
  {
   "cell_type": "code",
   "execution_count": 5,
   "metadata": {},
   "outputs": [],
   "source": [
    "games.howell.results<-games.howell(d$SiteNum, log(d$Thickness))\n",
    "write.table(games.howell.results, \"gameshowel_log.csv\", quote=FALSE, sep=\",\")"
   ]
  },
  {
   "cell_type": "markdown",
   "metadata": {},
   "source": [
    "#### Create p-value matrix table from Games Howell results"
   ]
  },
  {
   "cell_type": "code",
   "execution_count": 3,
   "metadata": {},
   "outputs": [],
   "source": [
    "# Adapted from https://stackoverflow.com/questions/24598710/presenting-tukey-hsd-pairwise-p-values-in-a-table\n",
    "games.howell.results<-games.howell(d$SiteNum, d$Thickness)\n",
    "row.pvalues<-games.howell.results$p\n",
    "\n",
    "num.groups<-length(unique(d$SiteNum))\n",
    "\n",
    "p.table <- matrix(\"\", num.groups, num.groups)\n",
    "p.table[lower.tri(p.table)] <-round(row.pvalues, 3)\n",
    "\n",
    "colnames(p.table)<-unique(d$SiteNum)\n",
    "rownames(p.table)<-unique(d$SiteNum)\n",
    "\n",
    "write.table(p.table,\"clipboard\",sep=\"\\t\")"
   ]
  }
 ],
 "metadata": {
  "kernelspec": {
   "display_name": "R",
   "language": "R",
   "name": "ir"
  },
  "language_info": {
   "codemirror_mode": "r",
   "file_extension": ".r",
   "mimetype": "text/x-r-source",
   "name": "R",
   "pygments_lexer": "r",
   "version": "3.3.2"
  }
 },
 "nbformat": 4,
 "nbformat_minor": 2
}
